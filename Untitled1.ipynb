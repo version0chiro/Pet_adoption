{
 "cells": [
  {
   "cell_type": "code",
   "execution_count": 1,
   "metadata": {},
   "outputs": [
    {
     "name": "stdout",
     "output_type": "stream",
     "text": [
      "1 16 \n"
     ]
    }
   ],
   "source": [
    "# Python program for \n",
    "# the above approach \n",
    "import math \n",
    "  \n",
    "# Function to print the \n",
    "# required N-th subset \n",
    "def printSubset(N, K): \n",
    "  \n",
    "    # Stores the subset \n",
    "    answer = \"\" \n",
    "  \n",
    "    while(N > 0): \n",
    "  \n",
    "        # Nearest power of 2 <= N \n",
    "        p = int(math.log(N, 2)) \n",
    "  \n",
    "        # Insert K ^ p in the subset \n",
    "        answer = str(K**p)+\" \"+answer \n",
    "  \n",
    "        # Update N \n",
    "        N = N % (2**p) \n",
    "  \n",
    "    # Print the subset \n",
    "    print(answer) \n",
    "  \n",
    "# Driver Code \n",
    "N = 5\n",
    "K = 4\n",
    "  \n",
    "printSubset(N, K) "
   ]
  },
  {
   "cell_type": "code",
   "execution_count": 2,
   "metadata": {},
   "outputs": [
    {
     "name": "stdout",
     "output_type": "stream",
     "text": [
      "1 3 27 \n"
     ]
    }
   ],
   "source": [
    "printSubset(11,3)"
   ]
  },
  {
   "cell_type": "code",
   "execution_count": null,
   "metadata": {},
   "outputs": [],
   "source": []
  }
 ],
 "metadata": {
  "kernelspec": {
   "display_name": "Python 3",
   "language": "python",
   "name": "python3"
  },
  "language_info": {
   "codemirror_mode": {
    "name": "ipython",
    "version": 3
   },
   "file_extension": ".py",
   "mimetype": "text/x-python",
   "name": "python",
   "nbconvert_exporter": "python",
   "pygments_lexer": "ipython3",
   "version": "3.6.5"
  }
 },
 "nbformat": 4,
 "nbformat_minor": 4
}
