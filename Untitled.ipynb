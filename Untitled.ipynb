{
 "cells": [
  {
   "cell_type": "code",
   "execution_count": 1,
   "metadata": {},
   "outputs": [],
   "source": [
    "from __future__ import print_function\n",
    "import os\n",
    "import zipfile\n",
    "import plaidml.keras\n",
    "plaidml.keras.install_backend()\n",
    "import keras"
   ]
  },
  {
   "cell_type": "code",
   "execution_count": 2,
   "metadata": {},
   "outputs": [],
   "source": [
    "import numpy as np\n",
    "import pandas as pd\n",
    "from collections import Counter\n",
    "from datetime import datetime\n"
   ]
  },
  {
   "cell_type": "code",
   "execution_count": 4,
   "metadata": {},
   "outputs": [],
   "source": [
    "train = pd.read_csv(\"Dataset/train.csv\")\n",
    "test = pd.read_csv(\"Dataset/test.csv\")"
   ]
  },
  {
   "cell_type": "code",
   "execution_count": 5,
   "metadata": {},
   "outputs": [
    {
     "data": {
      "text/html": [
       "<div>\n",
       "<style scoped>\n",
       "    .dataframe tbody tr th:only-of-type {\n",
       "        vertical-align: middle;\n",
       "    }\n",
       "\n",
       "    .dataframe tbody tr th {\n",
       "        vertical-align: top;\n",
       "    }\n",
       "\n",
       "    .dataframe thead th {\n",
       "        text-align: right;\n",
       "    }\n",
       "</style>\n",
       "<table border=\"1\" class=\"dataframe\">\n",
       "  <thead>\n",
       "    <tr style=\"text-align: right;\">\n",
       "      <th></th>\n",
       "      <th>condition</th>\n",
       "      <th>color_type</th>\n",
       "      <th>length(m)</th>\n",
       "      <th>height(cm)</th>\n",
       "      <th>X1</th>\n",
       "      <th>X2</th>\n",
       "      <th>duration</th>\n",
       "    </tr>\n",
       "  </thead>\n",
       "  <tbody>\n",
       "    <tr>\n",
       "      <th>0</th>\n",
       "      <td>2.0</td>\n",
       "      <td>Brown Tabby</td>\n",
       "      <td>0.80</td>\n",
       "      <td>7.78</td>\n",
       "      <td>13</td>\n",
       "      <td>9</td>\n",
       "      <td>73</td>\n",
       "    </tr>\n",
       "    <tr>\n",
       "      <th>1</th>\n",
       "      <td>1.0</td>\n",
       "      <td>White</td>\n",
       "      <td>0.72</td>\n",
       "      <td>14.19</td>\n",
       "      <td>13</td>\n",
       "      <td>9</td>\n",
       "      <td>1862</td>\n",
       "    </tr>\n",
       "    <tr>\n",
       "      <th>2</th>\n",
       "      <td>NaN</td>\n",
       "      <td>Brown</td>\n",
       "      <td>0.15</td>\n",
       "      <td>40.90</td>\n",
       "      <td>15</td>\n",
       "      <td>4</td>\n",
       "      <td>752</td>\n",
       "    </tr>\n",
       "    <tr>\n",
       "      <th>3</th>\n",
       "      <td>1.0</td>\n",
       "      <td>White</td>\n",
       "      <td>0.62</td>\n",
       "      <td>17.82</td>\n",
       "      <td>0</td>\n",
       "      <td>1</td>\n",
       "      <td>755</td>\n",
       "    </tr>\n",
       "    <tr>\n",
       "      <th>4</th>\n",
       "      <td>2.0</td>\n",
       "      <td>Black</td>\n",
       "      <td>0.50</td>\n",
       "      <td>11.06</td>\n",
       "      <td>18</td>\n",
       "      <td>4</td>\n",
       "      <td>52</td>\n",
       "    </tr>\n",
       "    <tr>\n",
       "      <th>...</th>\n",
       "      <td>...</td>\n",
       "      <td>...</td>\n",
       "      <td>...</td>\n",
       "      <td>...</td>\n",
       "      <td>...</td>\n",
       "      <td>...</td>\n",
       "      <td>...</td>\n",
       "    </tr>\n",
       "    <tr>\n",
       "      <th>8067</th>\n",
       "      <td>2.0</td>\n",
       "      <td>Brown</td>\n",
       "      <td>0.82</td>\n",
       "      <td>36.08</td>\n",
       "      <td>13</td>\n",
       "      <td>9</td>\n",
       "      <td>394</td>\n",
       "    </tr>\n",
       "    <tr>\n",
       "      <th>8068</th>\n",
       "      <td>0.0</td>\n",
       "      <td>Tan</td>\n",
       "      <td>0.49</td>\n",
       "      <td>27.54</td>\n",
       "      <td>13</td>\n",
       "      <td>9</td>\n",
       "      <td>798</td>\n",
       "    </tr>\n",
       "    <tr>\n",
       "      <th>8069</th>\n",
       "      <td>0.0</td>\n",
       "      <td>Black</td>\n",
       "      <td>0.98</td>\n",
       "      <td>37.19</td>\n",
       "      <td>0</td>\n",
       "      <td>7</td>\n",
       "      <td>393</td>\n",
       "    </tr>\n",
       "    <tr>\n",
       "      <th>8070</th>\n",
       "      <td>NaN</td>\n",
       "      <td>Black</td>\n",
       "      <td>0.79</td>\n",
       "      <td>23.83</td>\n",
       "      <td>0</td>\n",
       "      <td>2</td>\n",
       "      <td>387</td>\n",
       "    </tr>\n",
       "    <tr>\n",
       "      <th>8071</th>\n",
       "      <td>0.0</td>\n",
       "      <td>Black</td>\n",
       "      <td>0.64</td>\n",
       "      <td>24.51</td>\n",
       "      <td>0</td>\n",
       "      <td>1</td>\n",
       "      <td>392</td>\n",
       "    </tr>\n",
       "  </tbody>\n",
       "</table>\n",
       "<p>26906 rows × 7 columns</p>\n",
       "</div>"
      ],
      "text/plain": [
       "      condition   color_type  length(m)  height(cm)  X1  X2  duration\n",
       "0           2.0  Brown Tabby       0.80        7.78  13   9        73\n",
       "1           1.0        White       0.72       14.19  13   9      1862\n",
       "2           NaN        Brown       0.15       40.90  15   4       752\n",
       "3           1.0        White       0.62       17.82   0   1       755\n",
       "4           2.0        Black       0.50       11.06  18   4        52\n",
       "...         ...          ...        ...         ...  ..  ..       ...\n",
       "8067        2.0        Brown       0.82       36.08  13   9       394\n",
       "8068        0.0          Tan       0.49       27.54  13   9       798\n",
       "8069        0.0        Black       0.98       37.19   0   7       393\n",
       "8070        NaN        Black       0.79       23.83   0   2       387\n",
       "8071        0.0        Black       0.64       24.51   0   1       392\n",
       "\n",
       "[26906 rows x 7 columns]"
      ]
     },
     "execution_count": 5,
     "metadata": {},
     "output_type": "execute_result"
    }
   ],
   "source": [
    "train.drop(['breed_category','pet_category'],axis=1)\n",
    "dataset = pd.concat([train.drop(['breed_category','pet_category'],axis=1),test])\n",
    "dataset['issue_date'] = pd.to_datetime(dataset['issue_date'])\n",
    "dataset['listing_date'] = pd.to_datetime(dataset['listing_date'])\n",
    "dataset['duration'] = (dataset['listing_date'] - dataset['issue_date']).dt.days  \n",
    "dataset = dataset.drop(['pet_id','issue_date','listing_date'],axis=1)\n",
    "dataset "
   ]
  },
  {
   "cell_type": "code",
   "execution_count": 6,
   "metadata": {},
   "outputs": [
    {
     "data": {
      "text/html": [
       "<div>\n",
       "<style scoped>\n",
       "    .dataframe tbody tr th:only-of-type {\n",
       "        vertical-align: middle;\n",
       "    }\n",
       "\n",
       "    .dataframe tbody tr th {\n",
       "        vertical-align: top;\n",
       "    }\n",
       "\n",
       "    .dataframe thead th {\n",
       "        text-align: right;\n",
       "    }\n",
       "</style>\n",
       "<table border=\"1\" class=\"dataframe\">\n",
       "  <thead>\n",
       "    <tr style=\"text-align: right;\">\n",
       "      <th></th>\n",
       "      <th>length(m)</th>\n",
       "      <th>height(cm)</th>\n",
       "      <th>duration</th>\n",
       "    </tr>\n",
       "  </thead>\n",
       "  <tbody>\n",
       "    <tr>\n",
       "      <th>0</th>\n",
       "      <td>0.25</td>\n",
       "      <td>16.21</td>\n",
       "      <td>120.0</td>\n",
       "    </tr>\n",
       "    <tr>\n",
       "      <th>1</th>\n",
       "      <td>0.50</td>\n",
       "      <td>27.36</td>\n",
       "      <td>392.0</td>\n",
       "    </tr>\n",
       "    <tr>\n",
       "      <th>2</th>\n",
       "      <td>0.76</td>\n",
       "      <td>38.78</td>\n",
       "      <td>1116.0</td>\n",
       "    </tr>\n",
       "  </tbody>\n",
       "</table>\n",
       "</div>"
      ],
      "text/plain": [
       "   length(m)  height(cm)  duration\n",
       "0       0.25       16.21     120.0\n",
       "1       0.50       27.36     392.0\n",
       "2       0.76       38.78    1116.0"
      ]
     },
     "execution_count": 6,
     "metadata": {},
     "output_type": "execute_result"
    }
   ],
   "source": [
    "info = pd.DataFrame()\n",
    "info['length(m)'] = [np.percentile(dataset['length(m)'],25*i) for i in range(1,4)]\n",
    "info['height(cm)'] = [np.percentile(dataset['height(cm)'],25*i) for i in range(1,4)]\n",
    "info['duration'] = [np.percentile(dataset['duration'],25*i) for i in range(1,4)]\n",
    "info"
   ]
  },
  {
   "cell_type": "code",
   "execution_count": 7,
   "metadata": {},
   "outputs": [
    {
     "data": {
      "text/html": [
       "<div>\n",
       "<style scoped>\n",
       "    .dataframe tbody tr th:only-of-type {\n",
       "        vertical-align: middle;\n",
       "    }\n",
       "\n",
       "    .dataframe tbody tr th {\n",
       "        vertical-align: top;\n",
       "    }\n",
       "\n",
       "    .dataframe thead th {\n",
       "        text-align: right;\n",
       "    }\n",
       "</style>\n",
       "<table border=\"1\" class=\"dataframe\">\n",
       "  <thead>\n",
       "    <tr style=\"text-align: right;\">\n",
       "      <th></th>\n",
       "      <th>length(m)</th>\n",
       "      <th>height(cm)</th>\n",
       "      <th>duration</th>\n",
       "    </tr>\n",
       "  </thead>\n",
       "  <tbody>\n",
       "    <tr>\n",
       "      <th>0</th>\n",
       "      <td>0.250</td>\n",
       "      <td>16.210</td>\n",
       "      <td>120.0</td>\n",
       "    </tr>\n",
       "    <tr>\n",
       "      <th>1</th>\n",
       "      <td>0.500</td>\n",
       "      <td>27.360</td>\n",
       "      <td>392.0</td>\n",
       "    </tr>\n",
       "    <tr>\n",
       "      <th>2</th>\n",
       "      <td>0.760</td>\n",
       "      <td>38.780</td>\n",
       "      <td>1116.0</td>\n",
       "    </tr>\n",
       "    <tr>\n",
       "      <th>3</th>\n",
       "      <td>-0.515</td>\n",
       "      <td>-17.645</td>\n",
       "      <td>-1374.0</td>\n",
       "    </tr>\n",
       "    <tr>\n",
       "      <th>4</th>\n",
       "      <td>1.525</td>\n",
       "      <td>72.635</td>\n",
       "      <td>2610.0</td>\n",
       "    </tr>\n",
       "  </tbody>\n",
       "</table>\n",
       "</div>"
      ],
      "text/plain": [
       "   length(m)  height(cm)  duration\n",
       "0      0.250      16.210     120.0\n",
       "1      0.500      27.360     392.0\n",
       "2      0.760      38.780    1116.0\n",
       "3     -0.515     -17.645   -1374.0\n",
       "4      1.525      72.635    2610.0"
      ]
     },
     "execution_count": 7,
     "metadata": {},
     "output_type": "execute_result"
    }
   ],
   "source": [
    "info.loc[3] = [2.5*info.loc[0,column] - 1.5*info.loc[2,column] for column in info.columns]\n",
    "info.loc[4] = [2.5*info.loc[2,column] - 1.5*info.loc[0,column] for column in info.columns]\n",
    "info"
   ]
  },
  {
   "cell_type": "code",
   "execution_count": 8,
   "metadata": {},
   "outputs": [],
   "source": [
    "def range_part(column,value):\n",
    "    if value > info.loc[4,column]:\n",
    "        return 5\n",
    "    elif value > info.loc[2,column]:\n",
    "        return 4\n",
    "    elif value > info.loc[1,column]:\n",
    "        return 3\n",
    "    elif value > info.loc[0,column]:\n",
    "        return 2\n",
    "    elif value > info.loc[3,column]:\n",
    "        return 1\n",
    "    else:\n",
    "        return 0"
   ]
  },
  {
   "cell_type": "code",
   "execution_count": 9,
   "metadata": {},
   "outputs": [
    {
     "data": {
      "text/plain": [
       "condition     float64\n",
       "color_type     object\n",
       "length(m)     float64\n",
       "height(cm)    float64\n",
       "X1              int64\n",
       "X2              int64\n",
       "duration        int64\n",
       "dtype: object"
      ]
     },
     "execution_count": 9,
     "metadata": {},
     "output_type": "execute_result"
    }
   ],
   "source": [
    "dataset.dtypes"
   ]
  },
  {
   "cell_type": "code",
   "execution_count": 10,
   "metadata": {},
   "outputs": [
    {
     "data": {
      "image/png": "[encoded data removed]",
      "text/plain": [
       "<Figure size 432x288 with 1 Axes>"
      ]
     },
     "metadata": {
      "needs_background": "light"
     },
     "output_type": "display_data"
    }
   ],
   "source": [
    "df = dataset['color_type'].value_counts().plot(kind='barh')\n",
    "df.plot(figsize=(10,10));"
   ]
  },
  {
   "cell_type": "code",
   "execution_count": 11,
   "metadata": {},
   "outputs": [],
   "source": [
    "numerical = dataset.dtypes[dataset.dtypes != object].index"
   ]
  },
  {
   "cell_type": "code",
   "execution_count": 12,
   "metadata": {},
   "outputs": [
    {
     "data": {
      "text/plain": [
       "<AxesSubplot:>"
      ]
     },
     "execution_count": 12,
     "metadata": {},
     "output_type": "execute_result"
    },
    {
     "data": {
      "image/png": "[encoded data removed]",
      "text/plain": [
       "<Figure size 432x288 with 1 Axes>"
      ]
     },
     "metadata": {
      "needs_background": "light"
     },
     "output_type": "display_data"
    }
   ],
   "source": [
    "dataset['condition'].value_counts().plot(kind='barh')"
   ]
  },
  {
   "cell_type": "code",
   "execution_count": 13,
   "metadata": {},
   "outputs": [
    {
     "data": {
      "image/png": "[encoded data removed]",
      "text/plain": [
       "<Figure size 720x720 with 6 Axes>"
      ]
     },
     "metadata": {
      "needs_background": "light"
     },
     "output_type": "display_data"
    }
   ],
   "source": [
    "import matplotlib.pyplot as plt\n",
    "fig, ax = plt.subplots(2,3,figsize=(10,10))\n",
    "\n",
    "for i in range(3):\n",
    "    dataset.boxplot(column=list(numerical)[i], ax=ax[0,i])\n",
    "    ax[0,i].title.set_text(numerical[i])\n",
    "\n",
    "for i in range(3):\n",
    "    dataset.boxplot(column=list(numerical)[i+3], ax=ax[1,i])\n",
    "    ax[1,i].title.set_text(numerical[3+i])"
   ]
  },
  {
   "cell_type": "code",
   "execution_count": 14,
   "metadata": {},
   "outputs": [
    {
     "name": "stderr",
     "output_type": "stream",
     "text": [
      "100%|█████████████████████████████████████████████████████████████████████████████████████████████████████████████| 26906/26906 [00:01<00:00, 13532.64it/s]\n",
      "100%|█████████████████████████████████████████████████████████████████████████████████████████████████████████████| 26906/26906 [00:02<00:00, 13365.13it/s]\n",
      "100%|█████████████████████████████████████████████████████████████████████████████████████████████████████████████| 26906/26906 [00:01<00:00, 13997.92it/s]\n"
     ]
    },
    {
     "data": {
      "text/html": [
       "<div>\n",
       "<style scoped>\n",
       "    .dataframe tbody tr th:only-of-type {\n",
       "        vertical-align: middle;\n",
       "    }\n",
       "\n",
       "    .dataframe tbody tr th {\n",
       "        vertical-align: top;\n",
       "    }\n",
       "\n",
       "    .dataframe thead th {\n",
       "        text-align: right;\n",
       "    }\n",
       "</style>\n",
       "<table border=\"1\" class=\"dataframe\">\n",
       "  <thead>\n",
       "    <tr style=\"text-align: right;\">\n",
       "      <th></th>\n",
       "      <th>condition</th>\n",
       "      <th>color_type</th>\n",
       "      <th>length(m)</th>\n",
       "      <th>height(cm)</th>\n",
       "      <th>X1</th>\n",
       "      <th>X2</th>\n",
       "      <th>duration</th>\n",
       "      <th>length_range</th>\n",
       "      <th>height_range</th>\n",
       "      <th>duration_range</th>\n",
       "    </tr>\n",
       "  </thead>\n",
       "  <tbody>\n",
       "    <tr>\n",
       "      <th>0</th>\n",
       "      <td>2.0</td>\n",
       "      <td>Brown Tabby</td>\n",
       "      <td>0.80</td>\n",
       "      <td>7.78</td>\n",
       "      <td>13</td>\n",
       "      <td>9</td>\n",
       "      <td>73</td>\n",
       "      <td>4</td>\n",
       "      <td>1</td>\n",
       "      <td>1</td>\n",
       "    </tr>\n",
       "    <tr>\n",
       "      <th>1</th>\n",
       "      <td>1.0</td>\n",
       "      <td>White</td>\n",
       "      <td>0.72</td>\n",
       "      <td>14.19</td>\n",
       "      <td>13</td>\n",
       "      <td>9</td>\n",
       "      <td>1862</td>\n",
       "      <td>3</td>\n",
       "      <td>1</td>\n",
       "      <td>4</td>\n",
       "    </tr>\n",
       "    <tr>\n",
       "      <th>2</th>\n",
       "      <td>NaN</td>\n",
       "      <td>Brown</td>\n",
       "      <td>0.15</td>\n",
       "      <td>40.90</td>\n",
       "      <td>15</td>\n",
       "      <td>4</td>\n",
       "      <td>752</td>\n",
       "      <td>1</td>\n",
       "      <td>4</td>\n",
       "      <td>3</td>\n",
       "    </tr>\n",
       "    <tr>\n",
       "      <th>3</th>\n",
       "      <td>1.0</td>\n",
       "      <td>White</td>\n",
       "      <td>0.62</td>\n",
       "      <td>17.82</td>\n",
       "      <td>0</td>\n",
       "      <td>1</td>\n",
       "      <td>755</td>\n",
       "      <td>3</td>\n",
       "      <td>2</td>\n",
       "      <td>3</td>\n",
       "    </tr>\n",
       "    <tr>\n",
       "      <th>4</th>\n",
       "      <td>2.0</td>\n",
       "      <td>Black</td>\n",
       "      <td>0.50</td>\n",
       "      <td>11.06</td>\n",
       "      <td>18</td>\n",
       "      <td>4</td>\n",
       "      <td>52</td>\n",
       "      <td>2</td>\n",
       "      <td>1</td>\n",
       "      <td>1</td>\n",
       "    </tr>\n",
       "    <tr>\n",
       "      <th>...</th>\n",
       "      <td>...</td>\n",
       "      <td>...</td>\n",
       "      <td>...</td>\n",
       "      <td>...</td>\n",
       "      <td>...</td>\n",
       "      <td>...</td>\n",
       "      <td>...</td>\n",
       "      <td>...</td>\n",
       "      <td>...</td>\n",
       "      <td>...</td>\n",
       "    </tr>\n",
       "    <tr>\n",
       "      <th>8067</th>\n",
       "      <td>2.0</td>\n",
       "      <td>Brown</td>\n",
       "      <td>0.82</td>\n",
       "      <td>36.08</td>\n",
       "      <td>13</td>\n",
       "      <td>9</td>\n",
       "      <td>394</td>\n",
       "      <td>4</td>\n",
       "      <td>3</td>\n",
       "      <td>3</td>\n",
       "    </tr>\n",
       "    <tr>\n",
       "      <th>8068</th>\n",
       "      <td>0.0</td>\n",
       "      <td>Tan</td>\n",
       "      <td>0.49</td>\n",
       "      <td>27.54</td>\n",
       "      <td>13</td>\n",
       "      <td>9</td>\n",
       "      <td>798</td>\n",
       "      <td>2</td>\n",
       "      <td>3</td>\n",
       "      <td>3</td>\n",
       "    </tr>\n",
       "    <tr>\n",
       "      <th>8069</th>\n",
       "      <td>0.0</td>\n",
       "      <td>Black</td>\n",
       "      <td>0.98</td>\n",
       "      <td>37.19</td>\n",
       "      <td>0</td>\n",
       "      <td>7</td>\n",
       "      <td>393</td>\n",
       "      <td>4</td>\n",
       "      <td>3</td>\n",
       "      <td>3</td>\n",
       "    </tr>\n",
       "    <tr>\n",
       "      <th>8070</th>\n",
       "      <td>NaN</td>\n",
       "      <td>Black</td>\n",
       "      <td>0.79</td>\n",
       "      <td>23.83</td>\n",
       "      <td>0</td>\n",
       "      <td>2</td>\n",
       "      <td>387</td>\n",
       "      <td>4</td>\n",
       "      <td>2</td>\n",
       "      <td>2</td>\n",
       "    </tr>\n",
       "    <tr>\n",
       "      <th>8071</th>\n",
       "      <td>0.0</td>\n",
       "      <td>Black</td>\n",
       "      <td>0.64</td>\n",
       "      <td>24.51</td>\n",
       "      <td>0</td>\n",
       "      <td>1</td>\n",
       "      <td>392</td>\n",
       "      <td>3</td>\n",
       "      <td>2</td>\n",
       "      <td>2</td>\n",
       "    </tr>\n",
       "  </tbody>\n",
       "</table>\n",
       "<p>26906 rows × 10 columns</p>\n",
       "</div>"
      ],
      "text/plain": [
       "      condition   color_type  length(m)  height(cm)  X1  X2  duration  \\\n",
       "0           2.0  Brown Tabby       0.80        7.78  13   9        73   \n",
       "1           1.0        White       0.72       14.19  13   9      1862   \n",
       "2           NaN        Brown       0.15       40.90  15   4       752   \n",
       "3           1.0        White       0.62       17.82   0   1       755   \n",
       "4           2.0        Black       0.50       11.06  18   4        52   \n",
       "...         ...          ...        ...         ...  ..  ..       ...   \n",
       "8067        2.0        Brown       0.82       36.08  13   9       394   \n",
       "8068        0.0          Tan       0.49       27.54  13   9       798   \n",
       "8069        0.0        Black       0.98       37.19   0   7       393   \n",
       "8070        NaN        Black       0.79       23.83   0   2       387   \n",
       "8071        0.0        Black       0.64       24.51   0   1       392   \n",
       "\n",
       "      length_range  height_range  duration_range  \n",
       "0                4             1               1  \n",
       "1                3             1               4  \n",
       "2                1             4               3  \n",
       "3                3             2               3  \n",
       "4                2             1               1  \n",
       "...            ...           ...             ...  \n",
       "8067             4             3               3  \n",
       "8068             2             3               3  \n",
       "8069             4             3               3  \n",
       "8070             4             2               2  \n",
       "8071             3             2               2  \n",
       "\n",
       "[26906 rows x 10 columns]"
      ]
     },
     "execution_count": 14,
     "metadata": {},
     "output_type": "execute_result"
    }
   ],
   "source": [
    "from tqdm import tqdm\n",
    "tqdm.pandas()\n",
    "dataset['length_range'] = dataset['length(m)'].progress_apply(lambda x:range_part('length(m)',x))\n",
    "dataset['height_range'] = dataset['height(cm)'].progress_apply(lambda x:range_part('height(cm)',x))\n",
    "dataset['duration_range'] = dataset['duration'].progress_apply(lambda x:range_part('duration',x))\n",
    "dataset"
   ]
  },
  {
   "cell_type": "code",
   "execution_count": 66,
   "metadata": {},
   "outputs": [
    {
     "ename": "KeyError",
     "evalue": "'color_type'",
     "output_type": "error",
     "traceback": [
      "\u001b[1;31m---------------------------------------------------------------------------\u001b[0m",
      "\u001b[1;31mKeyError\u001b[0m                                  Traceback (most recent call last)",
      "\u001b[1;32mc:\\users\\sachi\\anaconda3\\envs\\tensorenv1\\lib\\site-packages\\pandas\\core\\indexes\\base.py\u001b[0m in \u001b[0;36mget_loc\u001b[1;34m(self, key, method, tolerance)\u001b[0m\n\u001b[0;32m   2888\u001b[0m             \u001b[1;32mtry\u001b[0m\u001b[1;33m:\u001b[0m\u001b[1;33m\u001b[0m\u001b[0m\n\u001b[1;32m-> 2889\u001b[1;33m                 \u001b[1;32mreturn\u001b[0m \u001b[0mself\u001b[0m\u001b[1;33m.\u001b[0m\u001b[0m_engine\u001b[0m\u001b[1;33m.\u001b[0m\u001b[0mget_loc\u001b[0m\u001b[1;33m(\u001b[0m\u001b[0mcasted_key\u001b[0m\u001b[1;33m)\u001b[0m\u001b[1;33m\u001b[0m\u001b[0m\n\u001b[0m\u001b[0;32m   2890\u001b[0m             \u001b[1;32mexcept\u001b[0m \u001b[0mKeyError\u001b[0m \u001b[1;32mas\u001b[0m \u001b[0merr\u001b[0m\u001b[1;33m:\u001b[0m\u001b[1;33m\u001b[0m\u001b[0m\n",
      "\u001b[1;32mpandas\\_libs\\index.pyx\u001b[0m in \u001b[0;36mpandas._libs.index.IndexEngine.get_loc\u001b[1;34m()\u001b[0m\n",
      "\u001b[1;32mpandas\\_libs\\index.pyx\u001b[0m in \u001b[0;36mpandas._libs.index.IndexEngine.get_loc\u001b[1;34m()\u001b[0m\n",
      "\u001b[1;32mpandas\\_libs\\hashtable_class_helper.pxi\u001b[0m in \u001b[0;36mpandas._libs.hashtable.PyObjectHashTable.get_item\u001b[1;34m()\u001b[0m\n",
      "\u001b[1;32mpandas\\_libs\\hashtable_class_helper.pxi\u001b[0m in \u001b[0;36mpandas._libs.hashtable.PyObjectHashTable.get_item\u001b[1;34m()\u001b[0m\n",
      "\u001b[1;31mKeyError\u001b[0m: 'color_type'",
      "\nThe above exception was the direct cause of the following exception:\n",
      "\u001b[1;31mKeyError\u001b[0m                                  Traceback (most recent call last)",
      "\u001b[1;32m<ipython-input-66-c7741f2365e7>\u001b[0m in \u001b[0;36m<module>\u001b[1;34m\u001b[0m\n\u001b[0;32m      1\u001b[0m \u001b[1;32mfrom\u001b[0m \u001b[0msklearn\u001b[0m\u001b[1;33m.\u001b[0m\u001b[0mpreprocessing\u001b[0m \u001b[1;32mimport\u001b[0m \u001b[0mLabelEncoder\u001b[0m\u001b[1;33m\u001b[0m\u001b[0m\n\u001b[1;32m----> 2\u001b[1;33m \u001b[0mdataset\u001b[0m\u001b[1;33m[\u001b[0m\u001b[1;34m'color_number'\u001b[0m\u001b[1;33m]\u001b[0m \u001b[1;33m=\u001b[0m \u001b[0mLabelEncoder\u001b[0m\u001b[1;33m(\u001b[0m\u001b[1;33m)\u001b[0m\u001b[1;33m.\u001b[0m\u001b[0mfit_transform\u001b[0m\u001b[1;33m(\u001b[0m\u001b[0mdataset\u001b[0m\u001b[1;33m[\u001b[0m\u001b[1;34m'color_type'\u001b[0m\u001b[1;33m]\u001b[0m\u001b[1;33m)\u001b[0m\u001b[1;33m\u001b[0m\u001b[0m\n\u001b[0m\u001b[0;32m      3\u001b[0m \u001b[0mdataset\u001b[0m \u001b[1;33m=\u001b[0m \u001b[0mdataset\u001b[0m\u001b[1;33m[\u001b[0m\u001b[1;33m[\u001b[0m\u001b[1;34m'condition'\u001b[0m\u001b[1;33m,\u001b[0m\u001b[1;34m'length_range'\u001b[0m\u001b[1;33m,\u001b[0m\u001b[1;34m'height_range'\u001b[0m\u001b[1;33m,\u001b[0m\u001b[1;34m'duration_range'\u001b[0m\u001b[1;33m,\u001b[0m\u001b[1;34m'color_number'\u001b[0m\u001b[1;33m,\u001b[0m\u001b[1;34m'X1'\u001b[0m\u001b[1;33m,\u001b[0m\u001b[1;34m'X2'\u001b[0m\u001b[1;33m]\u001b[0m\u001b[1;33m]\u001b[0m\u001b[1;33m.\u001b[0m\u001b[0mfillna\u001b[0m\u001b[1;33m(\u001b[0m\u001b[1;33m-\u001b[0m\u001b[1;36m1\u001b[0m\u001b[1;33m)\u001b[0m\u001b[1;33m\u001b[0m\u001b[0m\n\u001b[0;32m      4\u001b[0m \u001b[0mdataset\u001b[0m\u001b[1;33m\u001b[0m\u001b[0m\n",
      "\u001b[1;32mc:\\users\\sachi\\anaconda3\\envs\\tensorenv1\\lib\\site-packages\\pandas\\core\\frame.py\u001b[0m in \u001b[0;36m__getitem__\u001b[1;34m(self, key)\u001b[0m\n\u001b[0;32m   2897\u001b[0m             \u001b[1;32mif\u001b[0m \u001b[0mself\u001b[0m\u001b[1;33m.\u001b[0m\u001b[0mcolumns\u001b[0m\u001b[1;33m.\u001b[0m\u001b[0mnlevels\u001b[0m \u001b[1;33m>\u001b[0m \u001b[1;36m1\u001b[0m\u001b[1;33m:\u001b[0m\u001b[1;33m\u001b[0m\u001b[0m\n\u001b[0;32m   2898\u001b[0m                 \u001b[1;32mreturn\u001b[0m \u001b[0mself\u001b[0m\u001b[1;33m.\u001b[0m\u001b[0m_getitem_multilevel\u001b[0m\u001b[1;33m(\u001b[0m\u001b[0mkey\u001b[0m\u001b[1;33m)\u001b[0m\u001b[1;33m\u001b[0m\u001b[0m\n\u001b[1;32m-> 2899\u001b[1;33m             \u001b[0mindexer\u001b[0m \u001b[1;33m=\u001b[0m \u001b[0mself\u001b[0m\u001b[1;33m.\u001b[0m\u001b[0mcolumns\u001b[0m\u001b[1;33m.\u001b[0m\u001b[0mget_loc\u001b[0m\u001b[1;33m(\u001b[0m\u001b[0mkey\u001b[0m\u001b[1;33m)\u001b[0m\u001b[1;33m\u001b[0m\u001b[0m\n\u001b[0m\u001b[0;32m   2900\u001b[0m             \u001b[1;32mif\u001b[0m \u001b[0mis_integer\u001b[0m\u001b[1;33m(\u001b[0m\u001b[0mindexer\u001b[0m\u001b[1;33m)\u001b[0m\u001b[1;33m:\u001b[0m\u001b[1;33m\u001b[0m\u001b[0m\n\u001b[0;32m   2901\u001b[0m                 \u001b[0mindexer\u001b[0m \u001b[1;33m=\u001b[0m \u001b[1;33m[\u001b[0m\u001b[0mindexer\u001b[0m\u001b[1;33m]\u001b[0m\u001b[1;33m\u001b[0m\u001b[0m\n",
      "\u001b[1;32mc:\\users\\sachi\\anaconda3\\envs\\tensorenv1\\lib\\site-packages\\pandas\\core\\indexes\\base.py\u001b[0m in \u001b[0;36mget_loc\u001b[1;34m(self, key, method, tolerance)\u001b[0m\n\u001b[0;32m   2889\u001b[0m                 \u001b[1;32mreturn\u001b[0m \u001b[0mself\u001b[0m\u001b[1;33m.\u001b[0m\u001b[0m_engine\u001b[0m\u001b[1;33m.\u001b[0m\u001b[0mget_loc\u001b[0m\u001b[1;33m(\u001b[0m\u001b[0mcasted_key\u001b[0m\u001b[1;33m)\u001b[0m\u001b[1;33m\u001b[0m\u001b[0m\n\u001b[0;32m   2890\u001b[0m             \u001b[1;32mexcept\u001b[0m \u001b[0mKeyError\u001b[0m \u001b[1;32mas\u001b[0m \u001b[0merr\u001b[0m\u001b[1;33m:\u001b[0m\u001b[1;33m\u001b[0m\u001b[0m\n\u001b[1;32m-> 2891\u001b[1;33m                 \u001b[1;32mraise\u001b[0m \u001b[0mKeyError\u001b[0m\u001b[1;33m(\u001b[0m\u001b[0mkey\u001b[0m\u001b[1;33m)\u001b[0m \u001b[1;32mfrom\u001b[0m \u001b[0merr\u001b[0m\u001b[1;33m\u001b[0m\u001b[0m\n\u001b[0m\u001b[0;32m   2892\u001b[0m \u001b[1;33m\u001b[0m\u001b[0m\n\u001b[0;32m   2893\u001b[0m         \u001b[1;32mif\u001b[0m \u001b[0mtolerance\u001b[0m \u001b[1;32mis\u001b[0m \u001b[1;32mnot\u001b[0m \u001b[1;32mNone\u001b[0m\u001b[1;33m:\u001b[0m\u001b[1;33m\u001b[0m\u001b[0m\n",
      "\u001b[1;31mKeyError\u001b[0m: 'color_type'"
     ]
    }
   ],
   "source": [
    "from sklearn.preprocessing import LabelEncoder\n",
    "dataset['color_number'] = LabelEncoder().fit_transform(dataset['color_type'])\n",
    "dataset = dataset[['condition','length_range','height_range','duration_range','color_number','X1','X2']].fillna(-1)\n",
    "dataset"
   ]
  },
  {
   "cell_type": "code",
   "execution_count": 16,
   "metadata": {},
   "outputs": [
    {
     "data": {
      "text/plain": [
       "<AxesSubplot:>"
      ]
     },
     "execution_count": 16,
     "metadata": {},
     "output_type": "execute_result"
    },
    {
     "data": {
      "image/png": "[encoded data removed]",
      "text/plain": [
       "<Figure size 432x288 with 1 Axes>"
      ]
     },
     "metadata": {
      "needs_background": "light"
     },
     "output_type": "display_data"
    }
   ],
   "source": [
    "dataset['X2'].value_counts().plot(kind='barh')"
   ]
  },
  {
   "cell_type": "code",
   "execution_count": 78,
   "metadata": {},
   "outputs": [],
   "source": [
    "dataset[\"length*height\"]=dataset[\"length_range\"]*dataset[\"height_range\"]"
   ]
  },
  {
   "cell_type": "code",
   "execution_count": 84,
   "metadata": {},
   "outputs": [],
   "source": [
    "dataset=dataset.drop([\"length*height\"],axis=1)"
   ]
  },
  {
   "cell_type": "code",
   "execution_count": 85,
   "metadata": {},
   "outputs": [
    {
     "data": {
      "text/plain": [
       "<AxesSubplot:>"
      ]
     },
     "execution_count": 85,
     "metadata": {},
     "output_type": "execute_result"
    },
    {
     "data": {
      "image/png": "[encoded data removed]",
      "text/plain": [
       "<Figure size 432x288 with 1 Axes>"
      ]
     },
     "metadata": {
      "needs_background": "light"
     },
     "output_type": "display_data"
    }
   ],
   "source": [
    "dataset['X1'].value_counts().plot(kind='barh')"
   ]
  },
  {
   "cell_type": "code",
   "execution_count": 93,
   "metadata": {},
   "outputs": [
    {
     "data": {
      "text/html": [
       "<div>\n",
       "<style scoped>\n",
       "    .dataframe tbody tr th:only-of-type {\n",
       "        vertical-align: middle;\n",
       "    }\n",
       "\n",
       "    .dataframe tbody tr th {\n",
       "        vertical-align: top;\n",
       "    }\n",
       "\n",
       "    .dataframe thead th {\n",
       "        text-align: right;\n",
       "    }\n",
       "</style>\n",
       "<table border=\"1\" class=\"dataframe\">\n",
       "  <thead>\n",
       "    <tr style=\"text-align: right;\">\n",
       "      <th></th>\n",
       "      <th>condition</th>\n",
       "      <th>length_range</th>\n",
       "      <th>height_range</th>\n",
       "      <th>duration_range</th>\n",
       "      <th>color_number</th>\n",
       "      <th>X1</th>\n",
       "      <th>X2</th>\n",
       "    </tr>\n",
       "  </thead>\n",
       "  <tbody>\n",
       "    <tr>\n",
       "      <th>0</th>\n",
       "      <td>2.0</td>\n",
       "      <td>4</td>\n",
       "      <td>1</td>\n",
       "      <td>1</td>\n",
       "      <td>18</td>\n",
       "      <td>13</td>\n",
       "      <td>9</td>\n",
       "    </tr>\n",
       "    <tr>\n",
       "      <th>1</th>\n",
       "      <td>1.0</td>\n",
       "      <td>3</td>\n",
       "      <td>1</td>\n",
       "      <td>4</td>\n",
       "      <td>53</td>\n",
       "      <td>13</td>\n",
       "      <td>9</td>\n",
       "    </tr>\n",
       "    <tr>\n",
       "      <th>2</th>\n",
       "      <td>1.0</td>\n",
       "      <td>1</td>\n",
       "      <td>4</td>\n",
       "      <td>3</td>\n",
       "      <td>15</td>\n",
       "      <td>15</td>\n",
       "      <td>4</td>\n",
       "    </tr>\n",
       "    <tr>\n",
       "      <th>3</th>\n",
       "      <td>1.0</td>\n",
       "      <td>3</td>\n",
       "      <td>2</td>\n",
       "      <td>3</td>\n",
       "      <td>53</td>\n",
       "      <td>0</td>\n",
       "      <td>1</td>\n",
       "    </tr>\n",
       "    <tr>\n",
       "      <th>4</th>\n",
       "      <td>2.0</td>\n",
       "      <td>2</td>\n",
       "      <td>1</td>\n",
       "      <td>1</td>\n",
       "      <td>2</td>\n",
       "      <td>18</td>\n",
       "      <td>4</td>\n",
       "    </tr>\n",
       "    <tr>\n",
       "      <th>...</th>\n",
       "      <td>...</td>\n",
       "      <td>...</td>\n",
       "      <td>...</td>\n",
       "      <td>...</td>\n",
       "      <td>...</td>\n",
       "      <td>...</td>\n",
       "      <td>...</td>\n",
       "    </tr>\n",
       "    <tr>\n",
       "      <th>8067</th>\n",
       "      <td>2.0</td>\n",
       "      <td>4</td>\n",
       "      <td>3</td>\n",
       "      <td>3</td>\n",
       "      <td>15</td>\n",
       "      <td>13</td>\n",
       "      <td>9</td>\n",
       "    </tr>\n",
       "    <tr>\n",
       "      <th>8068</th>\n",
       "      <td>0.0</td>\n",
       "      <td>2</td>\n",
       "      <td>3</td>\n",
       "      <td>3</td>\n",
       "      <td>48</td>\n",
       "      <td>13</td>\n",
       "      <td>9</td>\n",
       "    </tr>\n",
       "    <tr>\n",
       "      <th>8069</th>\n",
       "      <td>0.0</td>\n",
       "      <td>4</td>\n",
       "      <td>3</td>\n",
       "      <td>3</td>\n",
       "      <td>2</td>\n",
       "      <td>0</td>\n",
       "      <td>7</td>\n",
       "    </tr>\n",
       "    <tr>\n",
       "      <th>8070</th>\n",
       "      <td>1.0</td>\n",
       "      <td>4</td>\n",
       "      <td>2</td>\n",
       "      <td>2</td>\n",
       "      <td>2</td>\n",
       "      <td>0</td>\n",
       "      <td>2</td>\n",
       "    </tr>\n",
       "    <tr>\n",
       "      <th>8071</th>\n",
       "      <td>0.0</td>\n",
       "      <td>3</td>\n",
       "      <td>2</td>\n",
       "      <td>2</td>\n",
       "      <td>2</td>\n",
       "      <td>0</td>\n",
       "      <td>1</td>\n",
       "    </tr>\n",
       "  </tbody>\n",
       "</table>\n",
       "<p>26906 rows × 7 columns</p>\n",
       "</div>"
      ],
      "text/plain": [
       "      condition  length_range  height_range  duration_range  color_number  X1  \\\n",
       "0           2.0             4             1               1            18  13   \n",
       "1           1.0             3             1               4            53  13   \n",
       "2           1.0             1             4               3            15  15   \n",
       "3           1.0             3             2               3            53   0   \n",
       "4           2.0             2             1               1             2  18   \n",
       "...         ...           ...           ...             ...           ...  ..   \n",
       "8067        2.0             4             3               3            15  13   \n",
       "8068        0.0             2             3               3            48  13   \n",
       "8069        0.0             4             3               3             2   0   \n",
       "8070        1.0             4             2               2             2   0   \n",
       "8071        0.0             3             2               2             2   0   \n",
       "\n",
       "      X2  \n",
       "0      9  \n",
       "1      9  \n",
       "2      4  \n",
       "3      1  \n",
       "4      4  \n",
       "...   ..  \n",
       "8067   9  \n",
       "8068   9  \n",
       "8069   7  \n",
       "8070   2  \n",
       "8071   1  \n",
       "\n",
       "[26906 rows x 7 columns]"
      ]
     },
     "execution_count": 93,
     "metadata": {},
     "output_type": "execute_result"
    }
   ],
   "source": [
    "dataset"
   ]
  },
  {
   "cell_type": "code",
   "execution_count": 92,
   "metadata": {},
   "outputs": [],
   "source": [
    "dataset[\"condition\"]=abs(dataset[\"condition\"])"
   ]
  },
  {
   "cell_type": "code",
   "execution_count": 94,
   "metadata": {},
   "outputs": [
    {
     "name": "stderr",
     "output_type": "stream",
     "text": [
      "c:\\users\\sachi\\anaconda3\\envs\\tensorenv1\\lib\\site-packages\\sklearn\\linear_model\\_logistic.py:764: ConvergenceWarning: lbfgs failed to converge (status=1):\n",
      "STOP: TOTAL NO. of ITERATIONS REACHED LIMIT.\n",
      "\n",
      "Increase the number of iterations (max_iter) or scale the data as shown in:\n",
      "    https://scikit-learn.org/stable/modules/preprocessing.html\n",
      "Please also refer to the documentation for alternative solver options:\n",
      "    https://scikit-learn.org/stable/modules/linear_model.html#logistic-regression\n",
      "  extra_warning_msg=_LOGISTIC_SOLVER_CONVERGENCE_MSG)\n"
     ]
    },
    {
     "data": {
      "text/plain": [
       "<AxesSubplot:>"
      ]
     },
     "execution_count": 94,
     "metadata": {},
     "output_type": "execute_result"
    },
    {
     "data": {
      "image/png": "[encoded data removed]",
      "text/plain": [
       "<Figure size 432x288 with 1 Axes>"
      ]
     },
     "metadata": {
      "needs_background": "light"
     },
     "output_type": "display_data"
    }
   ],
   "source": [
    "from sklearn.linear_model import LogisticRegression\n",
    "X_tr, y_tr = dataset.iloc[:len(train)], train['breed_category']\n",
    "X_test = dataset.iloc[len(train):]\n",
    "LR = LogisticRegression(random_state=0, solver='lbfgs', multi_class='multinomial').fit(X_tr, y_tr)\n",
    "y_LR = LR.predict(X_test)\n",
    "pd.DataFrame(y_LR, columns=['Value'])['Value'].value_counts().plot(kind='barh')"
   ]
  },
  {
   "cell_type": "code",
   "execution_count": 19,
   "metadata": {},
   "outputs": [
    {
     "data": {
      "text/plain": [
       "<AxesSubplot:>"
      ]
     },
     "execution_count": 19,
     "metadata": {},
     "output_type": "execute_result"
    },
    {
     "data": {
      "image/png": "[encoded data removed]",
      "text/plain": [
       "<Figure size 432x288 with 1 Axes>"
      ]
     },
     "metadata": {
      "needs_background": "light"
     },
     "output_type": "display_data"
    }
   ],
   "source": [
    "from sklearn.svm import SVC\n",
    "SVM = SVC(decision_function_shape=\"ovo\").fit(X_tr, y_tr)\n",
    "y_SVC = SVM.predict(X_test)\n",
    "pd.DataFrame(y_SVC, columns=['Value'])['Value'].value_counts().plot(kind='barh')"
   ]
  },
  {
   "cell_type": "code",
   "execution_count": null,
   "metadata": {},
   "outputs": [],
   "source": [
    "from sklearn.ensemble import RandomForestClassifier\n",
    "RF = RandomForestClassifier(n_estimators=100000, max_depth=25, random_state=2,min_samples_split=5,min_samples_leaf=1).fit(X_tr, y_tr)\n",
    "y_RF = RF.predict(X_test)\n",
    "pd.DataFrame(y_RF, columns=['Value'])['Value'].value_counts().plot(kind='barh')"
   ]
  },
  {
   "cell_type": "code",
   "execution_count": null,
   "metadata": {},
   "outputs": [],
   "source": [
    "RF = RandomForestClassifier(n_estimators=100000, max_depth=25, random_state=2,min_samples_split=5,min_samples_leaf=1).fit(X_tr, z_tr)\n",
    "z_RF = RF.predict(X_test)"
   ]
  },
  {
   "cell_type": "code",
   "execution_count": 88,
   "metadata": {},
   "outputs": [
    {
     "name": "stderr",
     "output_type": "stream",
     "text": [
      "c:\\users\\sachi\\anaconda3\\envs\\tensorenv1\\lib\\site-packages\\sklearn\\neural_network\\_multilayer_perceptron.py:471: ConvergenceWarning: lbfgs failed to converge (status=1):\n",
      "STOP: TOTAL NO. of ITERATIONS REACHED LIMIT.\n",
      "\n",
      "Increase the number of iterations (max_iter) or scale the data as shown in:\n",
      "    https://scikit-learn.org/stable/modules/preprocessing.html\n",
      "  self.n_iter_ = _check_optimize_result(\"lbfgs\", opt_res, self.max_iter)\n"
     ]
    },
    {
     "data": {
      "text/plain": [
       "<AxesSubplot:>"
      ]
     },
     "execution_count": 88,
     "metadata": {},
     "output_type": "execute_result"
    },
    {
     "data": {
      "image/png": "[encoded data removed]",
      "text/plain": [
       "<Figure size 432x288 with 1 Axes>"
      ]
     },
     "metadata": {
      "needs_background": "light"
     },
     "output_type": "display_data"
    }
   ],
   "source": [
    "from sklearn.neural_network import MLPClassifier\n",
    "NN = MLPClassifier(solver='lbfgs', alpha=1e-5, hidden_layer_sizes=(150, 10), random_state=1).fit(X_tr, y_tr)\n",
    "y_NN = NN.predict(X_test)\n",
    "pd.DataFrame(y_NN, columns=['Value'])['Value'].value_counts().plot(kind='barh')"
   ]
  },
  {
   "cell_type": "code",
   "execution_count": 89,
   "metadata": {},
   "outputs": [
    {
     "name": "stderr",
     "output_type": "stream",
     "text": [
      "c:\\users\\sachi\\anaconda3\\envs\\tensorenv1\\lib\\site-packages\\sklearn\\linear_model\\_logistic.py:764: ConvergenceWarning: lbfgs failed to converge (status=1):\n",
      "STOP: TOTAL NO. of ITERATIONS REACHED LIMIT.\n",
      "\n",
      "Increase the number of iterations (max_iter) or scale the data as shown in:\n",
      "    https://scikit-learn.org/stable/modules/preprocessing.html\n",
      "Please also refer to the documentation for alternative solver options:\n",
      "    https://scikit-learn.org/stable/modules/linear_model.html#logistic-regression\n",
      "  extra_warning_msg=_LOGISTIC_SOLVER_CONVERGENCE_MSG)\n",
      "c:\\users\\sachi\\anaconda3\\envs\\tensorenv1\\lib\\site-packages\\sklearn\\neural_network\\_multilayer_perceptron.py:471: ConvergenceWarning: lbfgs failed to converge (status=1):\n",
      "STOP: TOTAL NO. of ITERATIONS REACHED LIMIT.\n",
      "\n",
      "Increase the number of iterations (max_iter) or scale the data as shown in:\n",
      "    https://scikit-learn.org/stable/modules/preprocessing.html\n",
      "  self.n_iter_ = _check_optimize_result(\"lbfgs\", opt_res, self.max_iter)\n"
     ]
    }
   ],
   "source": [
    "z_tr = train['pet_category']\n",
    "LR = LogisticRegression(random_state=0, solver='lbfgs', multi_class='multinomial').fit(X_tr, z_tr)\n",
    "z_LR = LR.predict(X_test)\n",
    "SVM = SVC(decision_function_shape=\"ovo\").fit(X_tr, z_tr)\n",
    "z_SVC = SVM.predict(X_test)\n",
    "RF = RandomForestClassifier(n_estimators=10000, max_depth=100, random_state=0).fit(X_tr, z_tr)\n",
    "z_RF = RF.predict(X_test)\n",
    "NN = MLPClassifier(solver='lbfgs', alpha=1e-5, hidden_layer_sizes=(150, 10), random_state=1).fit(X_tr, z_tr)\n",
    "z_NN = NN.predict(X_test)"
   ]
  },
  {
   "cell_type": "code",
   "execution_count": 23,
   "metadata": {},
   "outputs": [
    {
     "data": {
      "image/png": "[encoded data removed]",
      "text/plain": [
       "<Figure size 720x720 with 4 Axes>"
      ]
     },
     "metadata": {
      "needs_background": "light"
     },
     "output_type": "display_data"
    }
   ],
   "source": [
    "import matplotlib.pyplot as plt\n",
    "fig, ax = plt.subplots(2,2,figsize=(10,10))\n",
    "\n",
    "title = ['LR', 'SVC', 'RF','NN']\n",
    "y_value = [y_LR, y_SVC, y_RF,y_NN]\n",
    "z_value = [z_LR, z_SVC, z_RF,z_NN]\n",
    "\n",
    "for i in range(2):\n",
    "    pd.DataFrame(y_value[i], columns=['Value'])['Value'].value_counts().plot(kind='barh', ax=ax[0,i])\n",
    "    ax[0,i].title.set_text(title[i])\n",
    "\n",
    "for i in range(2):\n",
    "    pd.DataFrame(y_value[2+i], columns=['Value'])['Value'].value_counts().plot(kind='barh', ax=ax[1,i])\n",
    "    ax[1,i].title.set_text(title[2+i])"
   ]
  },
  {
   "cell_type": "code",
   "execution_count": 24,
   "metadata": {},
   "outputs": [
    {
     "data": {
      "image/png": "[encoded data removed]",
      "text/plain": [
       "<Figure size 720x720 with 4 Axes>"
      ]
     },
     "metadata": {
      "needs_background": "light"
     },
     "output_type": "display_data"
    }
   ],
   "source": [
    "import matplotlib.pyplot as plt\n",
    "fig, ax = plt.subplots(2,2,figsize=(10,10))\n",
    "\n",
    "title = ['LR', 'SVC', 'RF','NN']\n",
    "y_value = [y_LR, y_SVC, y_RF,y_NN]\n",
    "z_value = [z_LR, z_SVC, z_RF,z_NN]\n",
    "\n",
    "for i in range(2):\n",
    "    pd.DataFrame(z_value[i], columns=['Value'])['Value'].value_counts().plot(kind='barh', ax=ax[0,i])\n",
    "    ax[0,i].title.set_text(title[i])\n",
    "\n",
    "for i in range(2):\n",
    "    pd.DataFrame(z_value[2+i], columns=['Value'])['Value'].value_counts().plot(kind='barh', ax=ax[1,i])\n",
    "    ax[1,i].title.set_text(title[2+i])"
   ]
  },
  {
   "cell_type": "code",
   "execution_count": 25,
   "metadata": {},
   "outputs": [
    {
     "data": {
      "text/plain": [
       "<AxesSubplot:>"
      ]
     },
     "execution_count": 25,
     "metadata": {},
     "output_type": "execute_result"
    },
    {
     "data": {
      "image/png": "[encoded data removed]",
      "text/plain": [
       "<Figure size 432x288 with 1 Axes>"
      ]
     },
     "metadata": {
      "needs_background": "light"
     },
     "output_type": "display_data"
    }
   ],
   "source": [
    "train.boxplot(column='X1')\n",
    "train['breed_category'].value_counts().plot(kind='barh')\n",
    "train['pet_category'].value_counts().plot(kind='barh')"
   ]
  },
  {
   "cell_type": "code",
   "execution_count": 26,
   "metadata": {},
   "outputs": [
    {
     "data": {
      "text/plain": [
       "[array([1., 0., 0., ..., 1., 2., 1.]),\n",
       " array([1., 0., 0., ..., 1., 1., 1.]),\n",
       " array([1., 0., 0., ..., 1., 2., 1.]),\n",
       " array([1., 0., 0., ..., 1., 2., 1.])]"
      ]
     },
     "execution_count": 26,
     "metadata": {},
     "output_type": "execute_result"
    }
   ],
   "source": [
    "[y_LR, y_SVC, y_RF,y_NN]"
   ]
  },
  {
   "cell_type": "code",
   "execution_count": 27,
   "metadata": {},
   "outputs": [
    {
     "data": {
      "text/html": [
       "<div>\n",
       "<style scoped>\n",
       "    .dataframe tbody tr th:only-of-type {\n",
       "        vertical-align: middle;\n",
       "    }\n",
       "\n",
       "    .dataframe tbody tr th {\n",
       "        vertical-align: top;\n",
       "    }\n",
       "\n",
       "    .dataframe thead th {\n",
       "        text-align: right;\n",
       "    }\n",
       "</style>\n",
       "<table border=\"1\" class=\"dataframe\">\n",
       "  <thead>\n",
       "    <tr style=\"text-align: right;\">\n",
       "      <th></th>\n",
       "      <th>pet_id</th>\n",
       "      <th>issue_date</th>\n",
       "      <th>listing_date</th>\n",
       "      <th>condition</th>\n",
       "      <th>color_type</th>\n",
       "      <th>length(m)</th>\n",
       "      <th>height(cm)</th>\n",
       "      <th>X1</th>\n",
       "      <th>X2</th>\n",
       "    </tr>\n",
       "  </thead>\n",
       "  <tbody>\n",
       "    <tr>\n",
       "      <th>0</th>\n",
       "      <td>ANSL_75005</td>\n",
       "      <td>2005-08-17 00:00:00</td>\n",
       "      <td>2017-09-07 15:35:00</td>\n",
       "      <td>0.0</td>\n",
       "      <td>Black</td>\n",
       "      <td>0.87</td>\n",
       "      <td>42.73</td>\n",
       "      <td>0</td>\n",
       "      <td>7</td>\n",
       "    </tr>\n",
       "    <tr>\n",
       "      <th>1</th>\n",
       "      <td>ANSL_76663</td>\n",
       "      <td>2018-11-15 00:00:00</td>\n",
       "      <td>2019-05-08 17:24:00</td>\n",
       "      <td>1.0</td>\n",
       "      <td>Orange Tabby</td>\n",
       "      <td>0.06</td>\n",
       "      <td>6.71</td>\n",
       "      <td>0</td>\n",
       "      <td>1</td>\n",
       "    </tr>\n",
       "    <tr>\n",
       "      <th>2</th>\n",
       "      <td>ANSL_58259</td>\n",
       "      <td>2012-10-11 00:00:00</td>\n",
       "      <td>2018-04-02 16:51:00</td>\n",
       "      <td>1.0</td>\n",
       "      <td>Black</td>\n",
       "      <td>0.24</td>\n",
       "      <td>41.21</td>\n",
       "      <td>0</td>\n",
       "      <td>7</td>\n",
       "    </tr>\n",
       "    <tr>\n",
       "      <th>3</th>\n",
       "      <td>ANSL_67171</td>\n",
       "      <td>2015-02-13 00:00:00</td>\n",
       "      <td>2018-04-06 07:25:00</td>\n",
       "      <td>1.0</td>\n",
       "      <td>Black</td>\n",
       "      <td>0.29</td>\n",
       "      <td>8.46</td>\n",
       "      <td>7</td>\n",
       "      <td>1</td>\n",
       "    </tr>\n",
       "    <tr>\n",
       "      <th>4</th>\n",
       "      <td>ANSL_72871</td>\n",
       "      <td>2017-01-18 00:00:00</td>\n",
       "      <td>2018-04-26 13:42:00</td>\n",
       "      <td>1.0</td>\n",
       "      <td>Brown</td>\n",
       "      <td>0.71</td>\n",
       "      <td>30.92</td>\n",
       "      <td>0</td>\n",
       "      <td>7</td>\n",
       "    </tr>\n",
       "    <tr>\n",
       "      <th>...</th>\n",
       "      <td>...</td>\n",
       "      <td>...</td>\n",
       "      <td>...</td>\n",
       "      <td>...</td>\n",
       "      <td>...</td>\n",
       "      <td>...</td>\n",
       "      <td>...</td>\n",
       "      <td>...</td>\n",
       "      <td>...</td>\n",
       "    </tr>\n",
       "    <tr>\n",
       "      <th>8067</th>\n",
       "      <td>ANSL_66809</td>\n",
       "      <td>2016-02-10 00:00:00</td>\n",
       "      <td>2017-03-10 14:56:00</td>\n",
       "      <td>2.0</td>\n",
       "      <td>Brown</td>\n",
       "      <td>0.82</td>\n",
       "      <td>36.08</td>\n",
       "      <td>13</td>\n",
       "      <td>9</td>\n",
       "    </tr>\n",
       "    <tr>\n",
       "      <th>8068</th>\n",
       "      <td>ANSL_59041</td>\n",
       "      <td>2015-12-07 00:00:00</td>\n",
       "      <td>2018-02-12 00:00:00</td>\n",
       "      <td>0.0</td>\n",
       "      <td>Tan</td>\n",
       "      <td>0.49</td>\n",
       "      <td>27.54</td>\n",
       "      <td>13</td>\n",
       "      <td>9</td>\n",
       "    </tr>\n",
       "    <tr>\n",
       "      <th>8069</th>\n",
       "      <td>ANSL_60034</td>\n",
       "      <td>2015-12-08 00:00:00</td>\n",
       "      <td>2017-01-04 17:19:00</td>\n",
       "      <td>0.0</td>\n",
       "      <td>Black</td>\n",
       "      <td>0.98</td>\n",
       "      <td>37.19</td>\n",
       "      <td>0</td>\n",
       "      <td>7</td>\n",
       "    </tr>\n",
       "    <tr>\n",
       "      <th>8070</th>\n",
       "      <td>ANSL_58066</td>\n",
       "      <td>2016-06-28 00:00:00</td>\n",
       "      <td>2017-07-20 18:19:00</td>\n",
       "      <td>NaN</td>\n",
       "      <td>Black</td>\n",
       "      <td>0.79</td>\n",
       "      <td>23.83</td>\n",
       "      <td>0</td>\n",
       "      <td>2</td>\n",
       "    </tr>\n",
       "    <tr>\n",
       "      <th>8071</th>\n",
       "      <td>ANSL_69436</td>\n",
       "      <td>2016-02-02 00:00:00</td>\n",
       "      <td>2017-02-28 16:47:00</td>\n",
       "      <td>0.0</td>\n",
       "      <td>Black</td>\n",
       "      <td>0.64</td>\n",
       "      <td>24.51</td>\n",
       "      <td>0</td>\n",
       "      <td>1</td>\n",
       "    </tr>\n",
       "  </tbody>\n",
       "</table>\n",
       "<p>8072 rows × 9 columns</p>\n",
       "</div>"
      ],
      "text/plain": [
       "          pet_id           issue_date         listing_date  condition  \\\n",
       "0     ANSL_75005  2005-08-17 00:00:00  2017-09-07 15:35:00        0.0   \n",
       "1     ANSL_76663  2018-11-15 00:00:00  2019-05-08 17:24:00        1.0   \n",
       "2     ANSL_58259  2012-10-11 00:00:00  2018-04-02 16:51:00        1.0   \n",
       "3     ANSL_67171  2015-02-13 00:00:00  2018-04-06 07:25:00        1.0   \n",
       "4     ANSL_72871  2017-01-18 00:00:00  2018-04-26 13:42:00        1.0   \n",
       "...          ...                  ...                  ...        ...   \n",
       "8067  ANSL_66809  2016-02-10 00:00:00  2017-03-10 14:56:00        2.0   \n",
       "8068  ANSL_59041  2015-12-07 00:00:00  2018-02-12 00:00:00        0.0   \n",
       "8069  ANSL_60034  2015-12-08 00:00:00  2017-01-04 17:19:00        0.0   \n",
       "8070  ANSL_58066  2016-06-28 00:00:00  2017-07-20 18:19:00        NaN   \n",
       "8071  ANSL_69436  2016-02-02 00:00:00  2017-02-28 16:47:00        0.0   \n",
       "\n",
       "        color_type  length(m)  height(cm)  X1  X2  \n",
       "0            Black       0.87       42.73   0   7  \n",
       "1     Orange Tabby       0.06        6.71   0   1  \n",
       "2            Black       0.24       41.21   0   7  \n",
       "3            Black       0.29        8.46   7   1  \n",
       "4            Brown       0.71       30.92   0   7  \n",
       "...            ...        ...         ...  ..  ..  \n",
       "8067         Brown       0.82       36.08  13   9  \n",
       "8068           Tan       0.49       27.54  13   9  \n",
       "8069         Black       0.98       37.19   0   7  \n",
       "8070         Black       0.79       23.83   0   2  \n",
       "8071         Black       0.64       24.51   0   1  \n",
       "\n",
       "[8072 rows x 9 columns]"
      ]
     },
     "execution_count": 27,
     "metadata": {},
     "output_type": "execute_result"
    }
   ],
   "source": [
    "test"
   ]
  },
  {
   "cell_type": "code",
   "execution_count": 28,
   "metadata": {},
   "outputs": [],
   "source": [
    "submission = pd.DataFrame()\n",
    "submission['pet_id'] = test['pet_id']\n",
    "submission['breed_category'] = y_LR\n",
    "submission['pet_category'] = z_LR\n",
    "submission.to_csv('submission_LogisticRegression.csv',index=False)"
   ]
  },
  {
   "cell_type": "code",
   "execution_count": 29,
   "metadata": {},
   "outputs": [],
   "source": [
    "submission = pd.DataFrame()\n",
    "submission['pet_id'] = test['pet_id']\n",
    "submission['breed_category'] = y_SVC\n",
    "submission['pet_category'] = z_SVC\n",
    "submission.to_csv('submission_SupportVectorMachine.csv',index=False)"
   ]
  },
  {
   "cell_type": "code",
   "execution_count": 83,
   "metadata": {},
   "outputs": [],
   "source": [
    "submission = pd.DataFrame()\n",
    "submission['pet_id'] = test['pet_id']\n",
    "submission['breed_category'] = y_RF\n",
    "submission['pet_category'] = z_RF\n",
    "submission.to_csv('submission_RandomForest.csv',index=False)"
   ]
  },
  {
   "cell_type": "code",
   "execution_count": 90,
   "metadata": {},
   "outputs": [],
   "source": [
    "submission = pd.DataFrame()\n",
    "submission['pet_id'] = test['pet_id']\n",
    "submission['breed_category'] = y_NN\n",
    "submission['pet_category'] = z_NN\n",
    "submission.to_csv('submission_NeuralNetwork.csv',index=False)"
   ]
  },
  {
   "cell_type": "code",
   "execution_count": 36,
   "metadata": {},
   "outputs": [],
   "source": [
    "in_dim = X_tr.shape[1]\n",
    "out_dim = 1"
   ]
  },
  {
   "cell_type": "code",
   "execution_count": 32,
   "metadata": {},
   "outputs": [],
   "source": [
    "import tensorflow as tf\n",
    "# Algorithms\n",
    "from sklearn import linear_model\n",
    "from sklearn.linear_model import LogisticRegression\n",
    "from sklearn.ensemble import RandomForestClassifier\n",
    "from sklearn.linear_model import Perceptron\n",
    "from sklearn.linear_model import SGDClassifier\n",
    "from sklearn.tree import DecisionTreeClassifier\n",
    "from sklearn.neighbors import KNeighborsClassifier\n",
    "from sklearn.svm import SVC, LinearSVC\n",
    "from sklearn.naive_bayes import GaussianNB\n",
    "import matplotlib.pyplot as plt\n",
    "%matplotlib inline\n",
    "from keras.models import Sequential\n",
    "from keras.layers import Dense\n",
    "from keras.optimizers import Adam\n",
    "from keras.layers import Dropout"
   ]
  },
  {
   "cell_type": "code",
   "execution_count": 37,
   "metadata": {},
   "outputs": [
    {
     "name": "stderr",
     "output_type": "stream",
     "text": [
      "INFO:plaidml:Opening device \"opencl_amd_baffin.0\"\n"
     ]
    }
   ],
   "source": [
    "#for isolated prediction\n",
    "model2 = Sequential()\n",
    "model2.add(Dense(100, input_dim=in_dim, activation=\"relu\"))\n",
    "model2.add(Dense(88,activation='relu'))\n",
    "model2.add(Dense(50,activation='relu'))\n",
    "model2.add(Dense(40,activation='relu'))\n",
    "model2.add(Dense(16,activation='relu'))\n",
    "model2.add(Dense(8,activation='relu'))\n",
    "model2.add(Dense(1))\n",
    "model2.compile(loss=\"mse\", optimizer=\"adam\")"
   ]
  },
  {
   "cell_type": "code",
   "execution_count": 38,
   "metadata": {},
   "outputs": [],
   "source": [
    "#for isolated prediction\n",
    "model3 = Sequential()\n",
    "model3.add(Dense(100, input_dim=in_dim, activation=\"relu\"))\n",
    "model3.add(Dense(88,activation='relu'))\n",
    "model3.add(Dense(50,activation='relu'))\n",
    "model3.add(Dense(40,activation='relu'))\n",
    "model3.add(Dense(16,activation='relu'))\n",
    "model3.add(Dense(8,activation='relu'))\n",
    "model3.add(Dense(1))\n",
    "model3.compile(loss=\"mse\", optimizer=\"adam\")"
   ]
  },
  {
   "cell_type": "code",
   "execution_count": 39,
   "metadata": {},
   "outputs": [
    {
     "name": "stdout",
     "output_type": "stream",
     "text": [
      "Epoch 1/150\n",
      "18834/18834 [==============================] - 17s 926us/step - loss: 0.1893\n",
      "Epoch 2/150\n",
      "18834/18834 [==============================] - 6s 327us/step - loss: 0.0668\n",
      "Epoch 3/150\n",
      "18834/18834 [==============================] - 6s 325us/step - loss: 0.0631\n",
      "Epoch 4/150\n",
      "18834/18834 [==============================] - 6s 328us/step - loss: 0.0603\n",
      "Epoch 5/150\n",
      "18834/18834 [==============================] - 6s 333us/step - loss: 0.0597\n",
      "Epoch 6/150\n",
      "18834/18834 [==============================] - 6s 334us/step - loss: 0.0596\n",
      "Epoch 7/150\n",
      "18834/18834 [==============================] - 6s 340us/step - loss: 0.0595\n",
      "Epoch 8/150\n",
      "18834/18834 [==============================] - 6s 337us/step - loss: 0.0585\n",
      "Epoch 9/150\n",
      "18834/18834 [==============================] - 7s 347us/step - loss: 0.0576\n",
      "Epoch 10/150\n",
      "18834/18834 [==============================] - 6s 330us/step - loss: 0.0581\n",
      "Epoch 11/150\n",
      "18834/18834 [==============================] - 6s 328us/step - loss: 0.0569\n",
      "Epoch 12/150\n",
      "18834/18834 [==============================] - 6s 321us/step - loss: 0.0570\n",
      "Epoch 13/150\n",
      "18834/18834 [==============================] - 6s 322us/step - loss: 0.0575\n",
      "Epoch 14/150\n",
      "18834/18834 [==============================] - 6s 331us/step - loss: 0.0573\n",
      "Epoch 15/150\n",
      "18834/18834 [==============================] - 6s 319us/step - loss: 0.0574\n",
      "Epoch 16/150\n",
      "18834/18834 [==============================] - 6s 323us/step - loss: 0.0569\n",
      "Epoch 17/150\n",
      "18834/18834 [==============================] - 6s 327us/step - loss: 0.0575\n",
      "Epoch 18/150\n",
      "18834/18834 [==============================] - 6s 339us/step - loss: 0.0567\n",
      "Epoch 19/150\n",
      "18834/18834 [==============================] - 7s 348us/step - loss: 0.0563\n",
      "Epoch 20/150\n",
      "18834/18834 [==============================] - 7s 350us/step - loss: 0.0567\n",
      "Epoch 21/150\n",
      "18834/18834 [==============================] - 6s 342us/step - loss: 0.0566\n",
      "Epoch 22/150\n",
      "18834/18834 [==============================] - 6s 344us/step - loss: 0.0573\n",
      "Epoch 23/150\n",
      "18834/18834 [==============================] - 6s 318us/step - loss: 0.0565\n",
      "Epoch 24/150\n",
      "18834/18834 [==============================] - 6s 319us/step - loss: 0.0569\n",
      "Epoch 25/150\n",
      "18834/18834 [==============================] - 6s 318us/step - loss: 0.0564\n",
      "Epoch 26/150\n",
      "18834/18834 [==============================] - 6s 318us/step - loss: 0.0560\n",
      "Epoch 27/150\n",
      "18834/18834 [==============================] - 6s 319us/step - loss: 0.0561\n",
      "Epoch 28/150\n",
      "18834/18834 [==============================] - 6s 330us/step - loss: 0.0566\n",
      "Epoch 29/150\n",
      "18834/18834 [==============================] - 6s 328us/step - loss: 0.0568\n",
      "Epoch 30/150\n",
      "18834/18834 [==============================] - 6s 321us/step - loss: 0.0563\n",
      "Epoch 31/150\n",
      "18834/18834 [==============================] - 6s 327us/step - loss: 0.0561\n",
      "Epoch 32/150\n",
      "18834/18834 [==============================] - 6s 341us/step - loss: 0.0562\n",
      "Epoch 33/150\n",
      "18834/18834 [==============================] - 6s 342us/step - loss: 0.0560\n",
      "Epoch 34/150\n",
      "18834/18834 [==============================] - 6s 336us/step - loss: 0.0559\n",
      "Epoch 35/150\n",
      "18834/18834 [==============================] - 6s 336us/step - loss: 0.0558\n",
      "Epoch 36/150\n",
      "18834/18834 [==============================] - 6s 340us/step - loss: 0.0558\n",
      "Epoch 37/150\n",
      "18834/18834 [==============================] - 6s 339us/step - loss: 0.0562\n",
      "Epoch 38/150\n",
      "18834/18834 [==============================] - 6s 340us/step - loss: 0.0560\n",
      "Epoch 39/150\n",
      "18834/18834 [==============================] - 6s 335us/step - loss: 0.0559\n",
      "Epoch 40/150\n",
      "18834/18834 [==============================] - 6s 331us/step - loss: 0.0560\n",
      "Epoch 41/150\n",
      "18834/18834 [==============================] - 7s 346us/step - loss: 0.0562\n",
      "Epoch 42/150\n",
      "18834/18834 [==============================] - 7s 358us/step - loss: 0.0558\n",
      "Epoch 43/150\n",
      "18834/18834 [==============================] - 6s 338us/step - loss: 0.0556\n",
      "Epoch 44/150\n",
      "18834/18834 [==============================] - 6s 328us/step - loss: 0.0555\n",
      "Epoch 45/150\n",
      "18834/18834 [==============================] - 6s 322us/step - loss: 0.0559\n",
      "Epoch 46/150\n",
      "18834/18834 [==============================] - 6s 320us/step - loss: 0.0554\n",
      "Epoch 47/150\n",
      "18834/18834 [==============================] - 6s 320us/step - loss: 0.0558 2s - \n",
      "Epoch 48/150\n",
      "18834/18834 [==============================] - 6s 321us/step - loss: 0.0554\n",
      "Epoch 49/150\n",
      "18834/18834 [==============================] - 6s 320us/step - loss: 0.0553 0s - loss: 0\n",
      "Epoch 50/150\n",
      "18834/18834 [==============================] - 6s 320us/step - loss: 0.0557\n",
      "Epoch 51/150\n",
      "18834/18834 [==============================] - 6s 321us/step - loss: 0.0554\n",
      "Epoch 52/150\n",
      "18834/18834 [==============================] - 6s 318us/step - loss: 0.0572\n",
      "Epoch 53/150\n",
      "18834/18834 [==============================] - 6s 318us/step - loss: 0.0549\n",
      "Epoch 54/150\n",
      "18834/18834 [==============================] - 6s 318us/step - loss: 0.0550\n",
      "Epoch 55/150\n",
      "18834/18834 [==============================] - 6s 320us/step - loss: 0.0553\n",
      "Epoch 56/150\n",
      "18834/18834 [==============================] - 6s 317us/step - loss: 0.0551\n",
      "Epoch 57/150\n",
      "18834/18834 [==============================] - 6s 315us/step - loss: 0.0551\n",
      "Epoch 58/150\n",
      "18834/18834 [==============================] - 6s 317us/step - loss: 0.0551\n",
      "Epoch 59/150\n",
      "18834/18834 [==============================] - 6s 318us/step - loss: 0.0550\n",
      "Epoch 60/150\n",
      "18834/18834 [==============================] - 6s 318us/step - loss: 0.0552\n",
      "Epoch 61/150\n",
      "18834/18834 [==============================] - 6s 327us/step - loss: 0.0549\n",
      "Epoch 62/150\n",
      "18834/18834 [==============================] - 6s 324us/step - loss: 0.0550\n",
      "Epoch 63/150\n",
      "18834/18834 [==============================] - 6s 335us/step - loss: 0.0551\n",
      "Epoch 64/150\n",
      "18834/18834 [==============================] - 6s 327us/step - loss: 0.0551 0s -\n",
      "Epoch 65/150\n",
      "18834/18834 [==============================] - 6s 331us/step - loss: 0.0548\n",
      "Epoch 66/150\n",
      "18834/18834 [==============================] - 6s 318us/step - loss: 0.0547\n",
      "Epoch 67/150\n",
      "18834/18834 [==============================] - 6s 315us/step - loss: 0.0547\n",
      "Epoch 68/150\n",
      "18834/18834 [==============================] - 6s 316us/step - loss: 0.0547\n",
      "Epoch 69/150\n",
      "18834/18834 [==============================] - 6s 316us/step - loss: 0.0550\n",
      "Epoch 70/150\n",
      "18834/18834 [==============================] - 6s 327us/step - loss: 0.0544 0s - loss\n",
      "Epoch 71/150\n",
      "18834/18834 [==============================] - 6s 331us/step - loss: 0.0548\n",
      "Epoch 72/150\n",
      "18834/18834 [==============================] - 6s 336us/step - loss: 0.0548\n",
      "Epoch 73/150\n",
      "18834/18834 [==============================] - 6s 331us/step - loss: 0.0546\n",
      "Epoch 74/150\n",
      "18834/18834 [==============================] - 6s 329us/step - loss: 0.0544\n",
      "Epoch 75/150\n",
      "18834/18834 [==============================] - 6s 314us/step - loss: 0.0548\n",
      "Epoch 76/150\n",
      "18834/18834 [==============================] - 6s 316us/step - loss: 0.0543\n",
      "Epoch 77/150\n",
      "18834/18834 [==============================] - 6s 321us/step - loss: 0.0544\n",
      "Epoch 78/150\n",
      "18834/18834 [==============================] - 6s 333us/step - loss: 0.0544\n",
      "Epoch 79/150\n",
      "18834/18834 [==============================] - 6s 341us/step - loss: 0.0546\n",
      "Epoch 80/150\n",
      "18834/18834 [==============================] - 6s 327us/step - loss: 0.0544\n",
      "Epoch 81/150\n",
      "18834/18834 [==============================] - 6s 326us/step - loss: 0.0541\n",
      "Epoch 82/150\n",
      "18834/18834 [==============================] - 6s 325us/step - loss: 0.0546\n",
      "Epoch 83/150\n",
      "18834/18834 [==============================] - 6s 329us/step - loss: 0.0540\n",
      "Epoch 84/150\n",
      "18834/18834 [==============================] - 6s 327us/step - loss: 0.0538\n",
      "Epoch 85/150\n",
      "18834/18834 [==============================] - 6s 325us/step - loss: 0.0546\n",
      "Epoch 86/150\n",
      "18834/18834 [==============================] - 6s 326us/step - loss: 0.0546\n",
      "Epoch 87/150\n",
      "18834/18834 [==============================] - 6s 324us/step - loss: 0.0542\n",
      "Epoch 88/150\n",
      "18834/18834 [==============================] - 6s 326us/step - loss: 0.0538\n",
      "Epoch 89/150\n",
      "18834/18834 [==============================] - 6s 327us/step - loss: 0.0541\n",
      "Epoch 90/150\n",
      "18834/18834 [==============================] - 6s 345us/step - loss: 0.0543\n",
      "Epoch 91/150\n",
      "18834/18834 [==============================] - 6s 337us/step - loss: 0.0539\n",
      "Epoch 92/150\n"
     ]
    },
    {
     "name": "stdout",
     "output_type": "stream",
     "text": [
      "18834/18834 [==============================] - 6s 333us/step - loss: 0.0540\n",
      "Epoch 93/150\n",
      "18834/18834 [==============================] - 6s 343us/step - loss: 0.0540\n",
      "Epoch 94/150\n",
      "18834/18834 [==============================] - 6s 325us/step - loss: 0.0537\n",
      "Epoch 95/150\n",
      "18834/18834 [==============================] - 6s 323us/step - loss: 0.0539\n",
      "Epoch 96/150\n",
      "18834/18834 [==============================] - 6s 319us/step - loss: 0.0535\n",
      "Epoch 97/150\n",
      "18834/18834 [==============================] - 6s 329us/step - loss: 0.0536\n",
      "Epoch 98/150\n",
      "18834/18834 [==============================] - 6s 322us/step - loss: 0.0533\n",
      "Epoch 99/150\n",
      "18834/18834 [==============================] - 6s 317us/step - loss: 0.0534\n",
      "Epoch 100/150\n",
      "18834/18834 [==============================] - 6s 317us/step - loss: 0.0535\n",
      "Epoch 101/150\n",
      "18834/18834 [==============================] - 6s 327us/step - loss: 0.0534\n",
      "Epoch 102/150\n",
      "18834/18834 [==============================] - 6s 317us/step - loss: 0.0532\n",
      "Epoch 103/150\n",
      "18834/18834 [==============================] - 6s 324us/step - loss: 0.0535\n",
      "Epoch 104/150\n",
      "18834/18834 [==============================] - 6s 317us/step - loss: 0.0531\n",
      "Epoch 105/150\n",
      "18834/18834 [==============================] - 6s 316us/step - loss: 0.0535\n",
      "Epoch 106/150\n",
      "18834/18834 [==============================] - 6s 316us/step - loss: 0.0533\n",
      "Epoch 107/150\n",
      "18834/18834 [==============================] - 6s 337us/step - loss: 0.0533\n",
      "Epoch 108/150\n",
      "18834/18834 [==============================] - 6s 325us/step - loss: 0.0531\n",
      "Epoch 109/150\n",
      "18834/18834 [==============================] - 6s 317us/step - loss: 0.0530\n",
      "Epoch 110/150\n",
      "18834/18834 [==============================] - 6s 323us/step - loss: 0.0528\n",
      "Epoch 111/150\n",
      "18834/18834 [==============================] - 6s 322us/step - loss: 0.0534\n",
      "Epoch 112/150\n",
      "18834/18834 [==============================] - 6s 316us/step - loss: 0.0530\n",
      "Epoch 113/150\n",
      "18834/18834 [==============================] - 6s 315us/step - loss: 0.0527\n",
      "Epoch 114/150\n",
      "18834/18834 [==============================] - 6s 333us/step - loss: 0.0531\n",
      "Epoch 115/150\n",
      "18834/18834 [==============================] - 6s 330us/step - loss: 0.0532\n",
      "Epoch 116/150\n",
      "18834/18834 [==============================] - 6s 335us/step - loss: 0.0528\n",
      "Epoch 117/150\n",
      "18834/18834 [==============================] - 6s 322us/step - loss: 0.0527\n",
      "Epoch 118/150\n",
      "18834/18834 [==============================] - 6s 325us/step - loss: 0.0525\n",
      "Epoch 119/150\n",
      "18834/18834 [==============================] - 6s 317us/step - loss: 0.0529\n",
      "Epoch 120/150\n",
      "18834/18834 [==============================] - 6s 319us/step - loss: 0.0522\n",
      "Epoch 121/150\n",
      "18834/18834 [==============================] - 6s 339us/step - loss: 0.0532\n",
      "Epoch 122/150\n",
      "18834/18834 [==============================] - 6s 335us/step - loss: 0.0524\n",
      "Epoch 123/150\n",
      "18834/18834 [==============================] - 6s 322us/step - loss: 0.0522\n",
      "Epoch 124/150\n",
      "18834/18834 [==============================] - 6s 318us/step - loss: 0.0522\n",
      "Epoch 125/150\n",
      "18834/18834 [==============================] - 6s 315us/step - loss: 0.0522\n",
      "Epoch 126/150\n",
      "18834/18834 [==============================] - 6s 316us/step - loss: 0.0525\n",
      "Epoch 127/150\n",
      "18834/18834 [==============================] - 6s 317us/step - loss: 0.0523\n",
      "Epoch 128/150\n",
      "18834/18834 [==============================] - 6s 329us/step - loss: 0.0522\n",
      "Epoch 129/150\n",
      "18834/18834 [==============================] - 6s 320us/step - loss: 0.0521\n",
      "Epoch 130/150\n",
      "18834/18834 [==============================] - 6s 319us/step - loss: 0.0524\n",
      "Epoch 131/150\n",
      "18834/18834 [==============================] - 6s 315us/step - loss: 0.0520\n",
      "Epoch 132/150\n",
      "18834/18834 [==============================] - 6s 342us/step - loss: 0.0521\n",
      "Epoch 133/150\n",
      "18834/18834 [==============================] - 6s 330us/step - loss: 0.0523\n",
      "Epoch 134/150\n",
      "18834/18834 [==============================] - 6s 339us/step - loss: 0.0521\n",
      "Epoch 135/150\n",
      "18834/18834 [==============================] - 6s 321us/step - loss: 0.0528\n",
      "Epoch 136/150\n",
      "18834/18834 [==============================] - 6s 335us/step - loss: 0.0518\n",
      "Epoch 137/150\n",
      "18834/18834 [==============================] - 6s 329us/step - loss: 0.0517\n",
      "Epoch 138/150\n",
      "18834/18834 [==============================] - 6s 325us/step - loss: 0.0513\n",
      "Epoch 139/150\n",
      "18834/18834 [==============================] - 6s 330us/step - loss: 0.0516 0s - lo\n",
      "Epoch 140/150\n",
      "18834/18834 [==============================] - 6s 320us/step - loss: 0.0514 0\n",
      "Epoch 141/150\n",
      "18834/18834 [==============================] - 6s 321us/step - loss: 0.0513\n",
      "Epoch 142/150\n",
      "18834/18834 [==============================] - 6s 328us/step - loss: 0.0519\n",
      "Epoch 143/150\n",
      "18834/18834 [==============================] - 6s 326us/step - loss: 0.0519\n",
      "Epoch 144/150\n",
      "18834/18834 [==============================] - 6s 327us/step - loss: 0.0514\n",
      "Epoch 145/150\n",
      "18834/18834 [==============================] - 6s 324us/step - loss: 0.0513\n",
      "Epoch 146/150\n",
      "18834/18834 [==============================] - 6s 321us/step - loss: 0.0513 2s -\n",
      "Epoch 147/150\n",
      "18834/18834 [==============================] - 6s 315us/step - loss: 0.0513\n",
      "Epoch 148/150\n",
      "18834/18834 [==============================] - 6s 324us/step - loss: 0.0513\n",
      "Epoch 149/150\n",
      "18834/18834 [==============================] - 6s 331us/step - loss: 0.0512\n",
      "Epoch 150/150\n",
      "18834/18834 [==============================] - 6s 319us/step - loss: 0.0512\n"
     ]
    },
    {
     "data": {
      "text/plain": [
       "<keras.callbacks.History at 0x132e8261d68>"
      ]
     },
     "execution_count": 39,
     "metadata": {},
     "output_type": "execute_result"
    }
   ],
   "source": [
    "from keras.callbacks import EarlyStopping\n",
    "early_stop=EarlyStopping(monitor='val_loss',mode='min',verbose=1,patience=10)\n",
    "model2.fit(x=X_tr,y=y_tr,\n",
    "         batch_size=100,epochs=150)"
   ]
  },
  {
   "cell_type": "code",
   "execution_count": 41,
   "metadata": {},
   "outputs": [
    {
     "name": "stdout",
     "output_type": "stream",
     "text": [
      "Epoch 1/20\n",
      "18834/18834 [==============================] - 19s 983us/step - loss: 0.5155\n",
      "Epoch 2/20\n",
      "18834/18834 [==============================] - 13s 687us/step - loss: 0.5154\n",
      "Epoch 3/20\n",
      "18834/18834 [==============================] - 13s 685us/step - loss: 0.5155\n",
      "Epoch 4/20\n",
      "18834/18834 [==============================] - 13s 708us/step - loss: 0.5155\n",
      "Epoch 5/20\n",
      "18834/18834 [==============================] - 13s 688us/step - loss: 0.5154\n",
      "Epoch 6/20\n",
      "18834/18834 [==============================] - 13s 687us/step - loss: 0.5155\n",
      "Epoch 7/20\n",
      "18834/18834 [==============================] - 13s 706us/step - loss: 0.5155\n",
      "Epoch 8/20\n",
      "18834/18834 [==============================] - 14s 744us/step - loss: 0.5155\n",
      "Epoch 9/20\n",
      "18834/18834 [==============================] - 13s 711us/step - loss: 0.5155\n",
      "Epoch 10/20\n",
      "18834/18834 [==============================] - 14s 736us/step - loss: 0.5155\n",
      "Epoch 11/20\n",
      "18834/18834 [==============================] - 14s 735us/step - loss: 0.5154\n",
      "Epoch 12/20\n",
      "18834/18834 [==============================] - 13s 709us/step - loss: 0.5155\n",
      "Epoch 13/20\n",
      "18834/18834 [==============================] - 13s 701us/step - loss: 0.5154\n",
      "Epoch 14/20\n",
      "18834/18834 [==============================] - 13s 699us/step - loss: 0.5155\n",
      "Epoch 15/20\n",
      "18834/18834 [==============================] - 13s 701us/step - loss: 0.5154\n",
      "Epoch 16/20\n",
      "18834/18834 [==============================] - 14s 721us/step - loss: 0.5154\n",
      "Epoch 17/20\n",
      "18834/18834 [==============================] - 13s 691us/step - loss: 0.5155\n",
      "Epoch 18/20\n",
      "18834/18834 [==============================] - 13s 685us/step - loss: 0.5155\n",
      "Epoch 19/20\n",
      "18834/18834 [==============================] - 14s 726us/step - loss: 0.5155\n",
      "Epoch 20/20\n",
      "18834/18834 [==============================] - 13s 687us/step - loss: 0.5154\n"
     ]
    },
    {
     "data": {
      "text/plain": [
       "<keras.callbacks.History at 0x132e8522400>"
      ]
     },
     "execution_count": 41,
     "metadata": {},
     "output_type": "execute_result"
    }
   ],
   "source": [
    "from keras.callbacks import EarlyStopping\n",
    "early_stop=EarlyStopping(monitor='val_loss',mode='min',verbose=1,patience=10)\n",
    "model3.fit(x=X_tr,y=z_tr,\n",
    "         batch_size=50,epochs=20)"
   ]
  },
  {
   "cell_type": "code",
   "execution_count": 42,
   "metadata": {},
   "outputs": [
    {
     "data": {
      "text/plain": [
       "<AxesSubplot:>"
      ]
     },
     "execution_count": 42,
     "metadata": {},
     "output_type": "execute_result"
    },
    {
     "data": {
      "image/png": "[encoded data removed]",
      "text/plain": [
       "<Figure size 432x288 with 1 Axes>"
      ]
     },
     "metadata": {
      "needs_background": "light"
     },
     "output_type": "display_data"
    }
   ],
   "source": [
    "losses = pd.DataFrame(model2.history.history)\n",
    "losses.plot()"
   ]
  },
  {
   "cell_type": "code",
   "execution_count": 43,
   "metadata": {},
   "outputs": [
    {
     "data": {
      "text/plain": [
       "<AxesSubplot:>"
      ]
     },
     "execution_count": 43,
     "metadata": {},
     "output_type": "execute_result"
    },
    {
     "data": {
      "image/png": "[encoded data removed]",
      "text/plain": [
       "<Figure size 432x288 with 1 Axes>"
      ]
     },
     "metadata": {
      "needs_background": "light"
     },
     "output_type": "display_data"
    }
   ],
   "source": [
    "losses = pd.DataFrame(model3.history.history)\n",
    "losses.plot()"
   ]
  },
  {
   "cell_type": "code",
   "execution_count": 48,
   "metadata": {},
   "outputs": [],
   "source": [
    "z_TF = model3.predict(X_test)\n"
   ]
  },
  {
   "cell_type": "code",
   "execution_count": 44,
   "metadata": {},
   "outputs": [
    {
     "data": {
      "text/plain": [
       "<AxesSubplot:>"
      ]
     },
     "execution_count": 44,
     "metadata": {},
     "output_type": "execute_result"
    },
    {
     "data": {
      "image/png": "[encoded data removed]",
      "text/plain": [
       "<Figure size 432x288 with 1 Axes>"
      ]
     },
     "metadata": {
      "needs_background": "light"
     },
     "output_type": "display_data"
    }
   ],
   "source": [
    "y_TF = model2.predict(X_test)"
   ]
  },
  {
   "cell_type": "code",
   "execution_count": 47,
   "metadata": {},
   "outputs": [
    {
     "data": {
      "text/plain": [
       "array([[1],\n",
       "       [0],\n",
       "       [0],\n",
       "       ...,\n",
       "       [1],\n",
       "       [1],\n",
       "       [0]])"
      ]
     },
     "execution_count": 47,
     "metadata": {},
     "output_type": "execute_result"
    }
   ],
   "source": [
    "np.around(y_TF.astype(\"int\"))"
   ]
  },
  {
   "cell_type": "code",
   "execution_count": 49,
   "metadata": {},
   "outputs": [],
   "source": [
    "submission = pd.DataFrame()\n",
    "submission['pet_id'] = test['pet_id']\n",
    "submission['breed_category'] = y_TF\n",
    "submission['pet_category'] = z_TF\n",
    "submission.to_csv('submission_Tensor.csv',index=False)"
   ]
  },
  {
   "cell_type": "code",
   "execution_count": 51,
   "metadata": {},
   "outputs": [
    {
     "data": {
      "text/plain": [
       "array([[1.7060021],\n",
       "       [1.7060021],\n",
       "       [1.7060021],\n",
       "       ...,\n",
       "       [1.7060021],\n",
       "       [1.7060021],\n",
       "       [1.7060021]], dtype=float32)"
      ]
     },
     "execution_count": 51,
     "metadata": {},
     "output_type": "execute_result"
    }
   ],
   "source": [
    "z_TF"
   ]
  },
  {
   "cell_type": "code",
   "execution_count": 52,
   "metadata": {},
   "outputs": [
    {
     "ename": "NameError",
     "evalue": "name 'feature_list' is not defined",
     "output_type": "error",
     "traceback": [
      "\u001b[1;31m---------------------------------------------------------------------------\u001b[0m",
      "\u001b[1;31mNameError\u001b[0m                                 Traceback (most recent call last)",
      "\u001b[1;32m<ipython-input-52-c5e97a7b0a41>\u001b[0m in \u001b[0;36m<module>\u001b[1;34m\u001b[0m\n\u001b[0;32m      1\u001b[0m \u001b[0mimportances\u001b[0m\u001b[1;33m=\u001b[0m\u001b[0mlist\u001b[0m\u001b[1;33m(\u001b[0m\u001b[0mRF\u001b[0m\u001b[1;33m.\u001b[0m\u001b[0mfeature_importances_\u001b[0m\u001b[1;33m)\u001b[0m\u001b[1;33m\u001b[0m\u001b[0m\n\u001b[0;32m      2\u001b[0m feature_importance = [(feature,round(importance,2)) for \n\u001b[1;32m----> 3\u001b[1;33m                      feature, importance in zip(feature_list,importances)]\n\u001b[0m\u001b[0;32m      4\u001b[0m feature_importances = sorted(feature_importances, key = lambda x:\n\u001b[0;32m      5\u001b[0m                             x[1], reverse = True)\n",
      "\u001b[1;31mNameError\u001b[0m: name 'feature_list' is not defined"
     ]
    }
   ],
   "source": [
    "importances=list(RF.feature_importances_)\n",
    "feature_importance = [(feature,round(importance,2)) for \n",
    "                     feature, importance in zip(feature_list,importances)]\n",
    "feature_importances = sorted(feature_importances, key = lambda x:\n",
    "                            x[1], reverse = True)\n",
    "[print('Variable: {:20} Importance: {}'.format(*pair)) for pair in feature_importances]"
   ]
  },
  {
   "cell_type": "code",
   "execution_count": null,
   "metadata": {},
   "outputs": [],
   "source": []
  }
 ],
 "metadata": {
  "kernelspec": {
   "display_name": "Python 3",
   "language": "python",
   "name": "python3"
  },
  "language_info": {
   "codemirror_mode": {
    "name": "ipython",
    "version": 3
   },
   "file_extension": ".py",
   "mimetype": "text/x-python",
   "name": "python",
   "nbconvert_exporter": "python",
   "pygments_lexer": "ipython3",
   "version": "3.6.5"
  }
 },
 "nbformat": 4,
 "nbformat_minor": 4
}
